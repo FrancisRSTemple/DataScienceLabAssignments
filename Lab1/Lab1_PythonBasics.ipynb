{
 "cells": [
  {
   "cell_type": "markdown",
   "metadata": {},
   "source": [
    "# Part 1. Python Basics\n",
    "\n",
    "This is a brief overview of Python language. It is aimed at students having at least one semester of programming experience in some language, such as Java, C, or Matlab. Our goal is not to become experts in programming in Python, but to learn enough so we can quickly become functional in doing data science with Python. \n",
    "\n",
    "**Disclaimer**: This file is a modification of several sources including:\n",
    "\n",
    "- `cs228-python-tutorial.ipynb` at https://github.com/kuleshov/cs228-material/blob/master/tutorials/python/cs228-python-tutorial.ipynb from Stanford's CS228 course\n",
    "(http://cs109.github.io/2015/)\n",
    "- `appendix_python.ipynb` at http://nbviewer.jupyter.org/github/pydata/pydata-book/blob/master/appendix_python.ipynb, which is acompanying a very nice book \"Python for Data Analysis\" book by Wes McKinney.\n",
    "- `Lab1-babypython.ipynb` at https://github.com/cs109/2015lab1 from Harvard's CS109 Data Science course \n",
    "- Python documentation at https://docs.python.org/2/index.html.\n",
    "- CIS3715 Dat"
   ]
  },
  {
   "cell_type": "markdown",
   "metadata": {},
   "source": [
    "## Installing Python IDE\n",
    "\n",
    "**Python environments**. In this course we will encourage students to do their Python work using either *Spyder* or *iPython notebook*. \n",
    "\n",
    "Spyder is an interactive development environment (IDE) which has Graphical User Interface (GUI) very similar to Matlab, so it will immediatelly come naturally to anybody who previously used Matlab. But, even for those who have never heard of Matlab, Spyder provides a very pleasant environment to work with. It has several tiled windows where programmers can see the console to run their code, python (`.py`) file editor, as well as view variables and files. \n",
    "\n",
    "iPython notebook (often called Jupyter) is a web-based IDE which is run on a browser and allows programmers to write and run their code within a browser window and to also create html-like documents (`.ipynb`) that are a mix of code and nicely formatted comments.\n",
    "\n",
    "**Anaconda**. We recommend students to start by installing `Anaconda` software on their own laptops or PCs (there are versions for Windows, OSX, and Linux) and use that software to start either Spyder or iPython notebook. *Anaconda* software can be downloaded for free from https://www.continuum.io/downloads. We advise installing Python 3 version for the purposes of this course. To install the software requires about 2GB of free disk space. Upon starting *Anaconda*, a window will pop up with several large icons. Clicking the *Launch* button on the *jupyter notebook* icon will launch iPython notebook. Clicking *Launch* button on the *spyder* icon will launch Spyder.\n",
    "\n",
    "**Spyder** (reference: http://pythonhosted.org/spyder/). Let us launch Spyder. We recommend using *iPython console*. In the *iPython console* window, type `?` and press enter. You will see a quick introduction and overview of IPython's features. Try to red through it. Next, type `1+1` and press enter. As the result you should see the output `2`. That is it for now. \n",
    "\n",
    "**iPython Notebook** (reference: https://ipython.org/ipython-doc/3/notebook/notebook.html). Let us launch the *jupyter notebook*. You will see a list of files and folders visible from your root directory. Open file `CIS3715 (Temple - Spring 2020) PythonBasics.ipynb` from the folder where you saved it. Now, you will be able to see a version of this file that you can edit and run pieces of code from. You are advised to make a copy of this file (click *File->Make a Copy*) that you will edit and you can always switch back to the original file if needed."
   ]
  },
  {
   "cell_type": "markdown",
   "metadata": {},
   "source": [
    "## Python tutorial - baby steps\n",
    "Let us start by running some basic code in python. If you click on the window below and press *Shift-Enter*, you will execute the code. You might also wish to copy-paste the chunks of code below to a *Spyder* console and execute them there."
   ]
  },
  {
   "cell_type": "code",
   "execution_count": 118,
   "metadata": {},
   "outputs": [
    {
     "data": {
      "text/plain": [
       "3"
      ]
     },
     "execution_count": 118,
     "metadata": {},
     "output_type": "execute_result"
    }
   ],
   "source": [
    "1+2"
   ]
  },
  {
   "cell_type": "markdown",
   "metadata": {},
   "source": [
    "Feel free to click on the code above and change the entry into `1+2` and press *Shift-Enter*.\n",
    "\n",
    "You can also double click on the text you are looking at (it is in the *Markdown* format) and you will be able to modify it. After editing, remember to press *Shift-Enter*, so the changes will be implemented. You can find a nice intro about the *Markdown* on http://daringfireball.net/projects/markdown/\n",
    "\n",
    "The following piece of code creates and assigns a value to object `b`, prints the value, and shows the type of the object. "
   ]
  },
  {
   "cell_type": "code",
   "execution_count": 119,
   "metadata": {},
   "outputs": [
    {
     "name": "stdout",
     "output_type": "stream",
     "text": [
      "-2.5\n",
      "<class 'float'>\n"
     ]
    }
   ],
   "source": [
    "b = -2.5\n",
    "print (b)\n",
    "print (type(b))"
   ]
  },
  {
   "cell_type": "markdown",
   "metadata": {},
   "source": [
    "`print` is among a small number of Python keywords and `type()` is among a small number of built-in functions coming with any Python interpreter. For the full list of the keywords see https://learnpythonthehardway.org/book/ex37.html\n",
    "and for the full list of built-in functions see https://docs.python.org/2/library/functions.html. \n",
    "\n",
    "Each object typically has associated a set of *attributes*, which are other objects stored in it, and *methods*, which define allowable things that could be done with the object. Now that we have created object `b`, which happens to be of type `float`, we can be wondering what could be done with it. To check properties of objects of type `float` we can type"
   ]
  },
  {
   "cell_type": "code",
   "execution_count": 120,
   "metadata": {
    "scrolled": false
   },
   "outputs": [
    {
     "name": "stdout",
     "output_type": "stream",
     "text": [
      "Help on class float in module builtins:\n",
      "\n",
      "class float(object)\n",
      " |  float(x=0, /)\n",
      " |\n",
      " |  Convert a string or number to a floating-point number, if possible.\n",
      " |\n",
      " |  Methods defined here:\n",
      " |\n",
      " |  __abs__(self, /)\n",
      " |      abs(self)\n",
      " |\n",
      " |  __add__(self, value, /)\n",
      " |      Return self+value.\n",
      " |\n",
      " |  __bool__(self, /)\n",
      " |      True if self else False\n",
      " |\n",
      " |  __ceil__(self, /)\n",
      " |      Return the ceiling as an Integral.\n",
      " |\n",
      " |  __divmod__(self, value, /)\n",
      " |      Return divmod(self, value).\n",
      " |\n",
      " |  __eq__(self, value, /)\n",
      " |      Return self==value.\n",
      " |\n",
      " |  __float__(self, /)\n",
      " |      float(self)\n",
      " |\n",
      " |  __floor__(self, /)\n",
      " |      Return the floor as an Integral.\n",
      " |\n",
      " |  __floordiv__(self, value, /)\n",
      " |      Return self//value.\n",
      " |\n",
      " |  __format__(self, format_spec, /)\n",
      " |      Formats the float according to format_spec.\n",
      " |\n",
      " |  __ge__(self, value, /)\n",
      " |      Return self>=value.\n",
      " |\n",
      " |  __getnewargs__(self, /)\n",
      " |\n",
      " |  __gt__(self, value, /)\n",
      " |      Return self>value.\n",
      " |\n",
      " |  __hash__(self, /)\n",
      " |      Return hash(self).\n",
      " |\n",
      " |  __int__(self, /)\n",
      " |      int(self)\n",
      " |\n",
      " |  __le__(self, value, /)\n",
      " |      Return self<=value.\n",
      " |\n",
      " |  __lt__(self, value, /)\n",
      " |      Return self<value.\n",
      " |\n",
      " |  __mod__(self, value, /)\n",
      " |      Return self%value.\n",
      " |\n",
      " |  __mul__(self, value, /)\n",
      " |      Return self*value.\n",
      " |\n",
      " |  __ne__(self, value, /)\n",
      " |      Return self!=value.\n",
      " |\n",
      " |  __neg__(self, /)\n",
      " |      -self\n",
      " |\n",
      " |  __pos__(self, /)\n",
      " |      +self\n",
      " |\n",
      " |  __pow__(self, value, mod=None, /)\n",
      " |      Return pow(self, value, mod).\n",
      " |\n",
      " |  __radd__(self, value, /)\n",
      " |      Return value+self.\n",
      " |\n",
      " |  __rdivmod__(self, value, /)\n",
      " |      Return divmod(value, self).\n",
      " |\n",
      " |  __repr__(self, /)\n",
      " |      Return repr(self).\n",
      " |\n",
      " |  __rfloordiv__(self, value, /)\n",
      " |      Return value//self.\n",
      " |\n",
      " |  __rmod__(self, value, /)\n",
      " |      Return value%self.\n",
      " |\n",
      " |  __rmul__(self, value, /)\n",
      " |      Return value*self.\n",
      " |\n",
      " |  __round__(self, ndigits=None, /)\n",
      " |      Return the Integral closest to x, rounding half toward even.\n",
      " |\n",
      " |      When an argument is passed, work like built-in round(x, ndigits).\n",
      " |\n",
      " |  __rpow__(self, value, mod=None, /)\n",
      " |      Return pow(value, self, mod).\n",
      " |\n",
      " |  __rsub__(self, value, /)\n",
      " |      Return value-self.\n",
      " |\n",
      " |  __rtruediv__(self, value, /)\n",
      " |      Return value/self.\n",
      " |\n",
      " |  __sub__(self, value, /)\n",
      " |      Return self-value.\n",
      " |\n",
      " |  __truediv__(self, value, /)\n",
      " |      Return self/value.\n",
      " |\n",
      " |  __trunc__(self, /)\n",
      " |      Return the Integral closest to x between 0 and x.\n",
      " |\n",
      " |  as_integer_ratio(self, /)\n",
      " |      Return a pair of integers, whose ratio is exactly equal to the original float.\n",
      " |\n",
      " |      The ratio is in lowest terms and has a positive denominator.  Raise\n",
      " |      OverflowError on infinities and a ValueError on NaNs.\n",
      " |\n",
      " |      >>> (10.0).as_integer_ratio()\n",
      " |      (10, 1)\n",
      " |      >>> (0.0).as_integer_ratio()\n",
      " |      (0, 1)\n",
      " |      >>> (-.25).as_integer_ratio()\n",
      " |      (-1, 4)\n",
      " |\n",
      " |  conjugate(self, /)\n",
      " |      Return self, the complex conjugate of any float.\n",
      " |\n",
      " |  hex(self, /)\n",
      " |      Return a hexadecimal representation of a floating-point number.\n",
      " |\n",
      " |      >>> (-0.1).hex()\n",
      " |      '-0x1.999999999999ap-4'\n",
      " |      >>> 3.14159.hex()\n",
      " |      '0x1.921f9f01b866ep+1'\n",
      " |\n",
      " |  is_integer(self, /)\n",
      " |      Return True if the float is an integer.\n",
      " |\n",
      " |  ----------------------------------------------------------------------\n",
      " |  Class methods defined here:\n",
      " |\n",
      " |  __getformat__(typestr, /)\n",
      " |      You probably don't want to use this function.\n",
      " |\n",
      " |        typestr\n",
      " |          Must be 'double' or 'float'.\n",
      " |\n",
      " |      It exists mainly to be used in Python's test suite.\n",
      " |\n",
      " |      This function returns whichever of 'unknown', 'IEEE, big-endian' or 'IEEE,\n",
      " |      little-endian' best describes the format of floating-point numbers used by the\n",
      " |      C type named by typestr.\n",
      " |\n",
      " |  fromhex(string, /)\n",
      " |      Create a floating-point number from a hexadecimal string.\n",
      " |\n",
      " |      >>> float.fromhex('0x1.ffffp10')\n",
      " |      2047.984375\n",
      " |      >>> float.fromhex('-0x1p-1074')\n",
      " |      -5e-324\n",
      " |\n",
      " |  ----------------------------------------------------------------------\n",
      " |  Static methods defined here:\n",
      " |\n",
      " |  __new__(*args, **kwargs)\n",
      " |      Create and return a new object.  See help(type) for accurate signature.\n",
      " |\n",
      " |  ----------------------------------------------------------------------\n",
      " |  Data descriptors defined here:\n",
      " |\n",
      " |  imag\n",
      " |      the imaginary part of a complex number\n",
      " |\n",
      " |  real\n",
      " |      the real part of a complex number\n",
      "\n"
     ]
    }
   ],
   "source": [
    "help(\"float\")"
   ]
  },
  {
   "cell_type": "markdown",
   "metadata": {},
   "source": [
    "From this listing, we can see the allowable methods that could be applied on any object of `float` type to which `b` belongs. For example, to find an absolute value of `b` we can type "
   ]
  },
  {
   "cell_type": "code",
   "execution_count": 121,
   "metadata": {},
   "outputs": [
    {
     "name": "stdout",
     "output_type": "stream",
     "text": [
      "2.5\n",
      "2.5\n"
     ]
    }
   ],
   "source": [
    "print (b.__abs__())   # this is a cumbersome way to find the absolute value\n",
    "print (abs(b))   # this is the standard way "
   ]
  },
  {
   "cell_type": "markdown",
   "metadata": {},
   "source": [
    "Another way to see the attribtes and methods for `b` is to type `dir(\"float\")` or directly `dir(b)`. You can also use `?` to get more information, such as by typing `b?` . While entering code in *iPython notebook* or *Spyder* , it is also useful to use autocompletion, which is envoked by pressing the *Tab* button. Try to press *Tab* in the window below and select `is_integer` choice. "
   ]
  },
  {
   "cell_type": "code",
   "execution_count": 122,
   "metadata": {},
   "outputs": [
    {
     "name": "stdout",
     "output_type": "stream",
     "text": [
      "8.32.0\n"
     ]
    }
   ],
   "source": [
    "import IPython; print(IPython.__version__)"
   ]
  },
  {
   "cell_type": "code",
   "execution_count": 123,
   "metadata": {},
   "outputs": [
    {
     "name": "stdout",
     "output_type": "stream",
     "text": [
      "\u001b[1;31mType:\u001b[0m        float\n",
      "\u001b[1;31mString form:\u001b[0m -2.5\n",
      "\u001b[1;31mDocstring:\u001b[0m   Convert a string or number to a floating-point number, if possible."
     ]
    }
   ],
   "source": [
    "b?"
   ]
  },
  {
   "cell_type": "markdown",
   "metadata": {},
   "source": [
    "Since `is_integer` is a method, we can execute it by adding parentheses"
   ]
  },
  {
   "cell_type": "code",
   "execution_count": 124,
   "metadata": {},
   "outputs": [
    {
     "data": {
      "text/plain": [
       "False"
      ]
     },
     "execution_count": 124,
     "metadata": {},
     "output_type": "execute_result"
    }
   ],
   "source": [
    "b.is_integer()"
   ]
  },
  {
   "cell_type": "markdown",
   "metadata": {},
   "source": [
    "# Typing\n",
    "In addition to `float` Python has several important built-in types that are worth knowing. One group are *simple types* that allow handling of numerical data, strings, boolean values, dates, and time. Another group are *container types* that contain numerous objects of simple type. \n",
    "\n",
    "##   Simple Types\n",
    "\n",
    "**Numbers**. Integers and floats work as you would expect from other languages:"
   ]
  },
  {
   "cell_type": "code",
   "execution_count": 125,
   "metadata": {},
   "outputs": [
    {
     "name": "stdout",
     "output_type": "stream",
     "text": [
      "3 <class 'int'>\n"
     ]
    }
   ],
   "source": [
    "c = 3\n",
    "print (c, type(c))"
   ]
  },
  {
   "cell_type": "code",
   "execution_count": 126,
   "metadata": {},
   "outputs": [
    {
     "name": "stdout",
     "output_type": "stream",
     "text": [
      "4\n",
      "6\n",
      "1.5\n",
      "9\n"
     ]
    }
   ],
   "source": [
    "print (c + 1)   # Addition (by the way, any text following '#' is treated as a comment)\n",
    "print (c * 2)   # Multiplication\n",
    "print (c / 2)   # Division (pay attention that the result is the integer part, not float 1.5)\n",
    "print (c ** 2)  # Exponentiation"
   ]
  },
  {
   "cell_type": "code",
   "execution_count": 127,
   "metadata": {},
   "outputs": [
    {
     "name": "stdout",
     "output_type": "stream",
     "text": [
      "4\n",
      "8\n"
     ]
    }
   ],
   "source": [
    "c += 1\n",
    "print (c)  # Prints \"4\"\n",
    "c *= 2\n",
    "print (c)  # Prints \"8\""
   ]
  },
  {
   "cell_type": "markdown",
   "metadata": {},
   "source": [
    "Operations between `float` and `integer` types are possible and the result is typed as `float`"
   ]
  },
  {
   "cell_type": "code",
   "execution_count": 128,
   "metadata": {},
   "outputs": [
    {
     "name": "stdout",
     "output_type": "stream",
     "text": [
      "5.5 <class 'float'>\n"
     ]
    }
   ],
   "source": [
    "print (b+c, type(b+c))"
   ]
  },
  {
   "cell_type": "markdown",
   "metadata": {},
   "source": [
    "It is also possible to convert one type into another by using the built-in functions `float` and `int`"
   ]
  },
  {
   "cell_type": "code",
   "execution_count": 129,
   "metadata": {},
   "outputs": [
    {
     "name": "stdout",
     "output_type": "stream",
     "text": [
      "-2 <class 'int'>\n",
      "8.0 <class 'float'>\n"
     ]
    }
   ],
   "source": [
    "b = int(b)\n",
    "print (b, type(b))\n",
    "c = float(c)\n",
    "print (c, type(c))"
   ]
  },
  {
   "cell_type": "markdown",
   "metadata": {},
   "source": [
    "With those type conversions, Python had to delete the existing object and create a new object with different type. Note that upon using the assign operator, Python is trying to guess the type of the object. If upon checking the type, the programmer does not agree, (s)he might want to change the type, as shown above. Python also has built-in types for long integers and complex numbers; you can find all of the details at https://docs.python.org/2/library/stdtypes.html#numeric-types-int-float-long-complex.\n",
    "\n",
    "**None**. Another important simple type is *None* and is used quite often in data science:"
   ]
  },
  {
   "cell_type": "code",
   "execution_count": 130,
   "metadata": {},
   "outputs": [
    {
     "name": "stdout",
     "output_type": "stream",
     "text": [
      "None <class 'NoneType'>\n"
     ]
    }
   ],
   "source": [
    "n = None\n",
    "print (n, type(n))"
   ]
  },
  {
   "cell_type": "markdown",
   "metadata": {},
   "source": [
    "\n",
    "**Booleans**. Python implements all of the usual operators for Boolean logic, either by using English words (e.g., `and`, `or`, `not` -- preferred for readability) or symbols (e.g., `&`, `|`):"
   ]
  },
  {
   "cell_type": "code",
   "execution_count": 131,
   "metadata": {},
   "outputs": [
    {
     "name": "stdout",
     "output_type": "stream",
     "text": [
      "True <class 'bool'> False <class 'bool'>\n"
     ]
    }
   ],
   "source": [
    "t = True\n",
    "f = False\n",
    "print (t, type(t), f, type(f))  "
   ]
  },
  {
   "cell_type": "code",
   "execution_count": 132,
   "metadata": {},
   "outputs": [
    {
     "name": "stdout",
     "output_type": "stream",
     "text": [
      "False\n",
      "True\n",
      "False\n",
      "True\n"
     ]
    }
   ],
   "source": [
    "print (t and f) # Logical AND;\n",
    "print (t or f)  # Logical OR;\n",
    "print (not t)   # Logical NOT;\n",
    "print (t != f)  # Logical XOR;"
   ]
  },
  {
   "cell_type": "markdown",
   "metadata": {},
   "source": [
    "**Strings**. `str` is a very useful type. It is defined by assigning a *string literal* enclosed with single or double quotes"
   ]
  },
  {
   "cell_type": "code",
   "execution_count": 133,
   "metadata": {},
   "outputs": [
    {
     "name": "stdout",
     "output_type": "stream",
     "text": [
      "hello 5 <class 'str'>\n",
      "hello\n",
      "           \n",
      "longer text\n",
      "  that can span\n",
      " multiple lines\n",
      "\n"
     ]
    },
    {
     "data": {
      "text/plain": [
       "True"
      ]
     },
     "execution_count": 133,
     "metadata": {},
     "output_type": "execute_result"
    }
   ],
   "source": [
    "s1 = 'hello'       # string literals can use single quotes\n",
    "print (s1, len(s1), type(s1))    # len() is a method that works on strings, check len? or help(\"len\")\n",
    "s2 = \"hello\"       # string literals can also be defined using double quotes\n",
    "print (s2)\n",
    "s3 = '''           \n",
    "longer text\n",
    "  that can span\n",
    " multiple lines\n",
    "'''\n",
    "print (s3)           # triple quote is used for multi-line string literals\n",
    "s1 == s2           # this will output True because the objects have the same content"
   ]
  },
  {
   "cell_type": "code",
   "execution_count": 134,
   "metadata": {},
   "outputs": [
    {
     "name": "stdout",
     "output_type": "stream",
     "text": [
      "hello is the same as hello\n",
      "hello world 12\n"
     ]
    }
   ],
   "source": [
    "s4 = s1 + ' is the same as ' + s2     # string concatenation\n",
    "print (s4)\n",
    "s5 = '%s %s %d' % (s1, 'world', 12)  # sprintf style string formatting\n",
    "print (s5)  # prints \"hello world 12\""
   ]
  },
  {
   "cell_type": "markdown",
   "metadata": {},
   "source": [
    "String objects have many useful methods (see https://docs.python.org/2/library/stdtypes.html#string-methods for more details)"
   ]
  },
  {
   "cell_type": "code",
   "execution_count": 135,
   "metadata": {},
   "outputs": [
    {
     "name": "stdout",
     "output_type": "stream",
     "text": [
      "Hello\n",
      "HELLO\n",
      "  hello\n",
      " hello \n",
      "he(ell)(ell)o\n",
      "world\n"
     ]
    }
   ],
   "source": [
    "s = \"hello\"\n",
    "print (s.capitalize())  # Capitalize a string; prints \"Hello\"\n",
    "print (s.upper())       # Convert a string to uppercase; prints \"HELLO\"\n",
    "print (s.rjust(7))      # Right-justify a string, padding with spaces; prints \"  hello\"\n",
    "print (s.center(7))     # Center a string, padding with spaces; prints \" hello \"\n",
    "print (s.replace('l', '(ell)'))  # Replace all instances of one substring with another;\n",
    "                               # prints \"he(ell)(ell)o\"\n",
    "print ('  world '.strip())  # Strip leading and trailing whitespace; prints \"world\""
   ]
  },
  {
   "cell_type": "markdown",
   "metadata": {},
   "source": [
    "## Container Types\n",
    "Python includes several built-in container types: lists, dictionaries, sets, and tuples.\n",
    "\n",
    "**Lists** (reference https://docs.python.org/2/tutorial/datastructures.html#more-on-lists). A list is the Python equivalent of an array, but is resizeable and can contain elements of different types. It is created by using square brackets."
   ]
  },
  {
   "cell_type": "code",
   "execution_count": 136,
   "metadata": {},
   "outputs": [
    {
     "name": "stdout",
     "output_type": "stream",
     "text": [
      "[3, 1, 2]\n"
     ]
    }
   ],
   "source": [
    "xs = [3, 1, 2]   # Create a list\n",
    "print (xs)"
   ]
  },
  {
   "cell_type": "markdown",
   "metadata": {},
   "source": [
    "Each element of the list can be accessed using the bracket notation. Each element can be changed. The elements of the list do not have to be of the same type. Elements can be added or deleted using the appropriate methods."
   ]
  },
  {
   "cell_type": "code",
   "execution_count": 137,
   "metadata": {},
   "outputs": [
    {
     "name": "stdout",
     "output_type": "stream",
     "text": [
      "3\n",
      "[3, 'hello again', 2]\n",
      "<class 'list'> <class 'int'> <class 'str'>\n",
      "[3, 'hello again', 2, 99.99]\n",
      "2 [3, 'hello again', 99.99]\n"
     ]
    }
   ],
   "source": [
    "print (xs[0])             # the first element of a list has index 0\n",
    "xs[1] = 'hello again'   # changing the second element from integer to string type\n",
    "print (xs)\n",
    "print (type(xs), type(xs[0]), type(xs[1]))\n",
    "xs.append(99.99)     # add a new element at the end of the list\n",
    "print (xs)\n",
    "x = xs.pop(2)        # remove the third element and return its value\n",
    "print (x, xs)"
   ]
  },
  {
   "cell_type": "markdown",
   "metadata": {},
   "source": [
    "Lists can contain lists as elements"
   ]
  },
  {
   "cell_type": "code",
   "execution_count": 138,
   "metadata": {},
   "outputs": [
    {
     "name": "stdout",
     "output_type": "stream",
     "text": [
      "[[3, 'hello again', 99.99], 1, 'hello']\n"
     ]
    }
   ],
   "source": [
    "xbig = [xs, 1, 'hello']\n",
    "print (xbig)"
   ]
  },
  {
   "cell_type": "markdown",
   "metadata": {},
   "source": [
    "In addition to accessing list elements one at a time, Python provides concise syntax to access sublists; this is known as slicing."
   ]
  },
  {
   "cell_type": "code",
   "execution_count": 139,
   "metadata": {},
   "outputs": [
    {
     "name": "stdout",
     "output_type": "stream",
     "text": [
      "[0, 1, 2, 3, 4]\n",
      "[2, 3]\n",
      "[2, 3, 4]\n",
      "[0, 1]\n",
      "[0, 1, 2, 3, 4]\n",
      "[0, 1, 2, 3]\n",
      "[0, 1, 88, 99, 4]\n"
     ]
    }
   ],
   "source": [
    "nums = list(range(5))    # range is a built-in function that creates a list of integers\n",
    "print (nums)         # Prints \"[0, 1, 2, 3, 4]\"\n",
    "print (nums[2:4])    # Get a slice from index 2 to 4 (exclusive); prints \"[2, 3]\"\n",
    "print (nums[2:])     # Get a slice from index 2 to the end; prints \"[2, 3, 4]\"\n",
    "print (nums[:2])     # Get a slice from the start to index 2 (exclusive); prints \"[0, 1]\"\n",
    "print (nums[:])      # Get a slice of the whole list; prints [\"0, 1, 2, 3, 4]\"\n",
    "print (nums[:-1])    # Slice indices can be negative; prints [\"0, 1, 2, 3]\"\n",
    "nums[2:4] = [88, 99] # Assign a new sublist to a slice\n",
    "print (nums)         # Prints \"[0, 1, 88, 99, 4]\""
   ]
  },
  {
   "cell_type": "markdown",
   "metadata": {},
   "source": [
    "**Tuples** (reference: https://docs.python.org/2/tutorial/datastructures.html#tuples-and-sequences). A tuple is an (immutable) ordered list of values. It is defined using parentheses."
   ]
  },
  {
   "cell_type": "code",
   "execution_count": 146,
   "metadata": {},
   "outputs": [
    {
     "name": "stdout",
     "output_type": "stream",
     "text": [
      "(5, 6) <class 'tuple'>\n"
     ]
    }
   ],
   "source": [
    "t = (5, 6)       # Create a tuple\n",
    "print (t, type(t))"
   ]
  },
  {
   "cell_type": "markdown",
   "metadata": {},
   "source": [
    "A tuple is in many ways similar to a list. One of the most important differences is that tuples can be used as keys in dictionaries (defined next) and as elements of sets, while lists cannot"
   ]
  },
  {
   "cell_type": "code",
   "execution_count": 141,
   "metadata": {},
   "outputs": [
    {
     "name": "stdout",
     "output_type": "stream",
     "text": [
      "{(0, 1): 0, (1, 2): 1, (2, 3): 2, (3, 4): 3, (4, 5): 4, (5, 6): 5}\n",
      "5\n",
      "1\n"
     ]
    }
   ],
   "source": [
    "dict2 = {(x, x + 1): x for x in range(6)}  # Create a dictionary with tuple keys (do not worry about the logic for now)\n",
    "print (dict2)\n",
    "print (dict2[t])       \n",
    "print (dict2[(1, 2)])"
   ]
  },
  {
   "cell_type": "code",
   "execution_count": 147,
   "metadata": {},
   "outputs": [
    {
     "ename": "TypeError",
     "evalue": "'tuple' object does not support item assignment",
     "output_type": "error",
     "traceback": [
      "\u001b[1;31m---------------------------------------------------------------------------\u001b[0m",
      "\u001b[1;31mTypeError\u001b[0m                                 Traceback (most recent call last)",
      "Cell \u001b[1;32mIn[147], line 1\u001b[0m\n\u001b[1;32m----> 1\u001b[0m \u001b[43mt\u001b[49m\u001b[43m[\u001b[49m\u001b[38;5;241;43m0\u001b[39;49m\u001b[43m]\u001b[49m \u001b[38;5;241m=\u001b[39m \u001b[38;5;241m1\u001b[39m         \u001b[38;5;66;03m# tuples are immutable\u001b[39;00m\n",
      "\u001b[1;31mTypeError\u001b[0m: 'tuple' object does not support item assignment"
     ]
    }
   ],
   "source": [
    "t[0] = 1         # tuples are immutable"
   ]
  },
  {
   "cell_type": "markdown",
   "metadata": {},
   "source": [
    "**Dictionaries** (reference: https://docs.python.org/2/library/stdtypes.html#dict). A dictionary stores (key, value) pairs called *items*, similar to a Map in Java or an object in Javascript. It is created using the curly braces."
   ]
  },
  {
   "cell_type": "code",
   "execution_count": 25,
   "metadata": {},
   "outputs": [
    {
     "name": "stdout",
     "output_type": "stream",
     "text": [
      "{'cat': 'cute', 'dog': 'furry'} <class 'dict'>\n",
      "cute\n",
      "dict_keys(['cat', 'dog'])\n",
      "dict_values(['cute', 'furry'])\n",
      "dict_items([('cat', 'cute'), ('dog', 'furry')])\n",
      "True\n"
     ]
    }
   ],
   "source": [
    "dct = {'cat': 'cute', 'dog': 'furry'}  # Create a new dictionary with some data\n",
    "print (dct, type(dct))\n",
    "print (dct['cat'])       # Get an entry from a dictionary; prints \"cute\"\n",
    "print (dct.keys())       # prints a list of all the keys\n",
    "print (dct.values())     # prints a list of all the values\n",
    "print (dct.items())      # prints a list of all (key,value) tuples\n",
    "print ('cat' in dct)     # Check if a dictionary has a given key; prints \"True\""
   ]
  },
  {
   "cell_type": "markdown",
   "metadata": {},
   "source": [
    "It is relatively straightforward to add new entries, modify the existing entries, or delete the existing entries"
   ]
  },
  {
   "cell_type": "code",
   "execution_count": 26,
   "metadata": {},
   "outputs": [
    {
     "name": "stdout",
     "output_type": "stream",
     "text": [
      "wet\n",
      "{'cat': 'cute', 'fish': 'wet', 'dog': 'friendly'}\n",
      "{'fish': 'wet', 'dog': 'friendly'}\n",
      "{'fish': 'wet', 12: 8, 'dog': 'friendly'}\n"
     ]
    }
   ],
   "source": [
    "dct['fish'] = 'wet'      # Set an entry in a dictionary\n",
    "print (dct['fish'])        # Prints value of key 'fish'\n",
    "dct['dog'] = 'friendly'  # Change the value of key 'dog'\n",
    "print (dct)\n",
    "del dct['cat']          # Remove an element from a dictionary\n",
    "print (dct) \n",
    "dct[12] = 8             # keys and values in a dictionary can be of different types\n",
    "print (dct)"
   ]
  },
  {
   "cell_type": "markdown",
   "metadata": {},
   "source": [
    "Sometimes, we may wish to obtain a value for a specific key, but do not know if the element exists. Making the following creates an error message"
   ]
  },
  {
   "cell_type": "code",
   "execution_count": 27,
   "metadata": {},
   "outputs": [
    {
     "ename": "KeyError",
     "evalue": "'monkey'",
     "output_type": "error",
     "traceback": [
      "\u001b[0;31m---------------------------------------------------------------------------\u001b[0m",
      "\u001b[0;31mKeyError\u001b[0m                                  Traceback (most recent call last)",
      "\u001b[0;32m<ipython-input-27-e39ea5261532>\u001b[0m in \u001b[0;36m<module>\u001b[0;34m\u001b[0m\n\u001b[0;32m----> 1\u001b[0;31m \u001b[0mprint\u001b[0m \u001b[0;34m(\u001b[0m\u001b[0mdct\u001b[0m\u001b[0;34m[\u001b[0m\u001b[0;34m'monkey'\u001b[0m\u001b[0;34m]\u001b[0m\u001b[0;34m)\u001b[0m  \u001b[0;31m# KeyError: 'monkey' not a key of d\u001b[0m\u001b[0;34m\u001b[0m\u001b[0m\n\u001b[0m",
      "\u001b[0;31mKeyError\u001b[0m: 'monkey'"
     ]
    }
   ],
   "source": [
    "print (dct['monkey'])  # KeyError: 'monkey' not a key of d"
   ]
  },
  {
   "cell_type": "markdown",
   "metadata": {},
   "source": [
    "To prevent the error, the `get` method should be used (enter `help(\"dict\")` to learn about all the methods for `dict` type)"
   ]
  },
  {
   "cell_type": "code",
   "execution_count": 28,
   "metadata": {},
   "outputs": [
    {
     "name": "stdout",
     "output_type": "stream",
     "text": [
      "N/A\n",
      "wet\n"
     ]
    }
   ],
   "source": [
    "print (dct.get('monkey', 'N/A'))  # Get an element with a default; prints \"N/A\"\n",
    "print (dct.get('fish', 'N/A'))    # Get an element with a default; prints \"wet\""
   ]
  },
  {
   "cell_type": "markdown",
   "metadata": {},
   "source": [
    "Dictionaries are very interesting from the data structures perspective -- they are related to the idea of hash tables."
   ]
  },
  {
   "cell_type": "markdown",
   "metadata": {},
   "source": [
    "**Sets** (reference: https://docs.python.org/2/tutorial/datastructures.html#sets). A set is an unordered collection of distinct elements. It is defined using curly braces."
   ]
  },
  {
   "cell_type": "code",
   "execution_count": 29,
   "metadata": {},
   "outputs": [
    {
     "name": "stdout",
     "output_type": "stream",
     "text": [
      "{'cat', 'dog'} <class 'set'>\n",
      "True\n",
      "False\n",
      "{'cat', 'dog'}\n",
      "{'dog'}\n"
     ]
    }
   ],
   "source": [
    "animals = {'cat', 'dog'}\n",
    "print (animals, type(animals))\n",
    "print ('cat' in animals)   # Check if an element is in a set; prints \"True\"\n",
    "print ('fish' in animals)  # prints \"False\"\n",
    "animals.add('cat')       # Adding an element that is already in the set does nothing\n",
    "print (animals)       \n",
    "animals.remove('cat')    # Remove an element from a set\n",
    "print (animals)      "
   ]
  },
  {
   "cell_type": "markdown",
   "metadata": {},
   "source": [
    "# Control flow of Python\n",
    "Similarly to other languages, Python allows control flow through conditionals (e.g., if-else) and loops (e.g., for loops, while loops).\n",
    "\n",
    "## if-elif-else"
   ]
  },
  {
   "cell_type": "code",
   "execution_count": 30,
   "metadata": {},
   "outputs": [
    {
     "name": "stdout",
     "output_type": "stream",
     "text": [
      "Positive but smaller than 5\n"
     ]
    }
   ],
   "source": [
    "b = 2\n",
    "if b < 0:\n",
    "    print (\"It's negative\")\n",
    "elif b == 0:\n",
    "    print ('Equal to zero')\n",
    "elif 0 < b < 5:\n",
    "    print ('Positive but smaller than 5')\n",
    "else:\n",
    "    print ('Positive and larger than 5')"
   ]
  },
  {
   "cell_type": "markdown",
   "metadata": {
    "collapsed": true
   },
   "source": [
    "As you can see, the main difference is in syntax. if-elif-else does not require parentheses. Instead, text indentation is used to identify blocks of code. Luckily, both *iPython notebook* and *Spyder* editors are helpful in avoiding syntax errors with the indentation.\n",
    "\n",
    "## While loops"
   ]
  },
  {
   "cell_type": "code",
   "execution_count": 31,
   "metadata": {},
   "outputs": [
    {
     "name": "stdout",
     "output_type": "stream",
     "text": [
      "128 256\n",
      "64 384\n",
      "32 448\n",
      "16 480\n",
      "8 496\n",
      "4 504\n",
      "finally, the values are:  4 504\n"
     ]
    }
   ],
   "source": [
    "x = 256\n",
    "total = 0\n",
    "while x > 0:\n",
    "    if total > 500:\n",
    "        break        # leaves the loop\n",
    "    total += x\n",
    "    x = x // 2\n",
    "    print (x, total)\n",
    "print ('finally, the values are: ', x, total)"
   ]
  },
  {
   "cell_type": "markdown",
   "metadata": {},
   "source": [
    "## For loops\n",
    "\n",
    "`for` loops are somewhat different than in Java, C, or Matlab. Rather than giving the user the ability to define both the iteration step and halting condition (as C), Python’s for statement iterates over the items of any sequence (e.g., list, string, dictionary), in the order that they appear in the sequence. You will learn to like for loops once you get used to them."
   ]
  },
  {
   "cell_type": "code",
   "execution_count": 32,
   "metadata": {},
   "outputs": [
    {
     "name": "stdout",
     "output_type": "stream",
     "text": [
      "10\n"
     ]
    }
   ],
   "source": [
    "sum = 0\n",
    "for i in range(5):  # range(5) creates a list [0, 1, 2, 3, 4], 'i' are iterated through the values in this list \n",
    "    sum += i\n",
    "print (sum)           # reports the sum of the elements in the list"
   ]
  },
  {
   "cell_type": "markdown",
   "metadata": {},
   "source": [
    "Here is another example that iterates through the elements of a provided list."
   ]
  },
  {
   "cell_type": "code",
   "execution_count": 33,
   "metadata": {},
   "outputs": [
    {
     "name": "stdout",
     "output_type": "stream",
     "text": [
      "12\n"
     ]
    }
   ],
   "source": [
    "sequence = [1, 2, None, 4, None, 5]\n",
    "total = 0\n",
    "for value in sequence:\n",
    "    if value is None:      # what does keyword 'is' do?\n",
    "        continue           # skip the rest of the block, keep looping\n",
    "    total += value\n",
    "print (total)"
   ]
  },
  {
   "cell_type": "markdown",
   "metadata": {},
   "source": [
    "`for` loops can also be iterated over dictionary items "
   ]
  },
  {
   "cell_type": "code",
   "execution_count": 34,
   "metadata": {},
   "outputs": [
    {
     "name": "stdout",
     "output_type": "stream",
     "text": [
      "cat\n",
      "fish\n",
      "dog\n",
      "cat is cute\n",
      "fish is wet\n",
      "dog is furry\n"
     ]
    }
   ],
   "source": [
    "dct = {'cat': 'cute', 'dog': 'furry', 'fish': 'wet'}  # Create a new dictionary with some data\n",
    "for key in dct:                    # iterates over keys of a dictionary\n",
    "    print (key)\n",
    "for key,value in dct.items():      # items method returns a list of (key,value) pairs\n",
    "    print (key, 'is', value)"
   ]
  },
  {
   "cell_type": "markdown",
   "metadata": {},
   "source": [
    "The role of keword `in` might be confusing. If you are really curious about it, the following Stack Overflow post might be helpful http://stackoverflow.com/questions/38204342/python-in-keyword-in-expression-vs-in-for-loop."
   ]
  },
  {
   "cell_type": "markdown",
   "metadata": {},
   "source": [
    "# Scripts, Modules and Packages\n",
    "**Scripts**. If you quit from the Python interpreter and restart it, all the code you have run, including the definitions, are lost. To reuse the code, it is a good idea to use a text editor to save the reusable code. A typical extension for the saved file would be `.py`. In *Spyder*, you can paste any code from the above in a `.py` file, let us say `test.py`, save in the current directory and type `execfile(\"test.py\")` in the console. This is known as creating and running a *script*. You can also run your script by pressing the *Play* icon in the menu."
   ]
  },
  {
   "cell_type": "markdown",
   "metadata": {},
   "source": [
    "**Modules and Packages**. Any Python file with the `.py` extension is a module. If the file contains useful definitions that you would like to use, there is a simple mechanism to *import* it. Python comes with a library of standard modules, described in https://docs.python.org/2/library/datetime.html. A package is a collection of Python modules. While a module is a single Python file, a package is a directory of Python modules. Anaconda software comes with a list of packages (see https://docs.continuum.io/anaconda/pkg-docs) that could be imported in the same way as standard library modules."
   ]
  },
  {
   "cell_type": "code",
   "execution_count": null,
   "metadata": {},
   "outputs": [
    {
     "name": "stdout",
     "output_type": "stream",
     "text": [
      "2017-01-17\n",
      "[[0.71161756 0.05987998 0.99136672]\n",
      " [0.5319522  0.87154702 0.27000679]\n",
      " [0.82097328 0.94226006 0.65085838]\n",
      " [0.63161473 0.42534873 0.36819438]] \n",
      "\n",
      "[[0.35785191 0.08803317 0.01137334]\n",
      " [0.55350542 0.39474059 0.1311278 ]\n",
      " [0.30096158 0.79870163 0.13506683]\n",
      " [0.39383783 0.33210435 0.17473325]] \n",
      "\n",
      "[[0.30539664 0.62616752 0.21248388]\n",
      " [0.16083718 0.90392722 0.55300611]\n",
      " [0.49715595 0.52906077 0.39594704]\n",
      " [0.42528073 0.53374456 0.3235156 ]]\n"
     ]
    }
   ],
   "source": [
    "import datetime                 # this is a standard Python module\n",
    "print (datetime.date(2017,1,17))  # uses method data from module datetime to create a date object and prints its value\n",
    "import numpy                    # this is a very popular package in the Anaconda release\n",
    "print (numpy.random.rand(4,3), '\\n')    # prints out a 4x3 array of random numbers\n",
    "import numpy as np              # provides an alias for numpy, allows shorter codes\n",
    "print (np.random.rand(4,3), '\\n')       # also prints out a 4x3 array of random numbers\n",
    "from numpy.random import rand   # allows us to directly call numpy.random.rand function as rand\n",
    "print (rand(4,3))                 # also prints out a 4x3 array of random numbers"
   ]
  },
  {
   "cell_type": "markdown",
   "metadata": {},
   "source": [
    "# Navigating the Python universe\n",
    "This tutorial provides just a glimpse at Python. For experienced programmers, Library reference and Language reference in https://docs.python.org/2.7/index.html describe almost all we need to know about Python and its standard modules, but those documents are a bit dense for beginners. It would probably take too much time for a typical student to learn Python by going through those references. Moreover, those references do not contain any information about non-standard library packages developed by a large number of volunteers around the world. The appeal and power of Python lies largely in those packagesFor example, some of those packages, such as `numpy`, `scipy`, `pandas`, `matplotlib`, `scikit-learn` have become the standard tools of a modern data scientist. The question is how to proceed with learning Python and many of its important packages?  \n",
    "\n",
    "Probably the best advice is to learn Python by doing it and by using online and printed resources. \n",
    "- **online tutorials**, many of them available as `ipynb` files, such as the ones used to create this document\n",
    "- **online reference materials** provided with packages: Scipy and Numpy (https://docs.scipy.org/doc/), Pandas (http://pandas.pydata.org/pandas-docs/stable/index.html), Matplotlib (http://matplotlib.org/), Scikit-learn (http://scikit-learn.org/stable/)\n",
    "- **google search**: many, if not most, of the programming-related questions queried with Google have an answer and often lead to the Stack Overflow, which has a huge repository of all kinds of questions related to programming, including programming in Python. Querying of Stack Overflow using Google search is so successful, that some computer scientists are jokingly saying that programming is an art of copying code from Stack Overflow. Of course, Google search has a much wider reach and allows us to access extremely valuable resources. Just to whet the appetite, let us enter \"python for data analysis ipynb\" and observe some great resources and tutorials for data scientists.\n",
    "- **books** such as \"python for data scientists\". This particular book comes with an online appendix with all the code used in the book (https://github.com/wesm/pydata-book). Some books come available in both print and electronic formats.\n",
    "\n",
    "In the context of CIS3715 course, you should feel free to browse internet and copy or modify the existing code, as long as you acknowledge your source. It is also completely OK to talk to your class colleagues. However, in this case, in addition to acknowledging any help, please be careful to refrain from copying homework and lab solutions from your colleagues. In case of doubt, please consult your instructors."
   ]
  },
  {
   "cell_type": "markdown",
   "metadata": {},
   "source": [
    "## Task: \n",
    "\n",
    "- Study the attached [slides](./LabAssignment1.pdf) and try all the codes in this slides. \n",
    "\n",
    "- Submit your code (jupyter notebook) via Canvas."
   ]
  },
  {
   "cell_type": "markdown",
   "metadata": {},
   "source": [
    "## 1. Example"
   ]
  },
  {
   "cell_type": "markdown",
   "metadata": {},
   "source": [
    "### 1.1 Load data with pandas"
   ]
  },
  {
   "cell_type": "code",
   "execution_count": 40,
   "metadata": {},
   "outputs": [
    {
     "name": "stdout",
     "output_type": "stream",
     "text": [
      "<class 'numpy.ndarray'>\n",
      "\n",
      "(406, 7)\n",
      "\n",
      "[[18.0 8 307.0 ... 3504 12.0 70]\n",
      " [15.0 8 350.0 ... 3693 11.5 70]\n",
      " [18.0 8 318.0 ... 3436 11.0 70]\n",
      " ...\n",
      " [32.0 4 135.0 ... 2295 11.6 82]\n",
      " [28.0 4 120.0 ... 2625 18.6 82]\n",
      " [31.0 4 119.0 ... 2720 19.4 82]]\n"
     ]
    }
   ],
   "source": [
    "# this is your code to get two vectors\n",
    "import numpy as np\n",
    "import pandas as pd\n",
    "\n",
    "# load data with pandas\n",
    "df = pd.read_csv('cars.csv')\n",
    "# print(df)\n",
    "\n",
    "# convert a pandas dataframe to a numpy array\n",
    "X = df.values[:, 1:-1]\n",
    "print(type(X))\n",
    "print()\n",
    "print(X.shape)\n",
    "print()\n",
    "print(X)"
   ]
  },
  {
   "cell_type": "markdown",
   "metadata": {},
   "source": [
    "### 1.2 Operation for vector"
   ]
  },
  {
   "cell_type": "code",
   "execution_count": 10,
   "metadata": {},
   "outputs": [
    {
     "name": "stdout",
     "output_type": "stream",
     "text": [
      "[18.0 8 307.0 130 3504 12.0 70]\n",
      "\n",
      "[28.0 4 120.0 79 2625 18.6 82]\n",
      "\n",
      "[46.0 12 427.0 209 6129 30.6 152]\n"
     ]
    }
   ],
   "source": [
    "#Get first row and the second to last row\n",
    "\n",
    "x1 = X[0, :]\n",
    "x2 = X[-2, :]\n",
    "\n",
    "print(x1)\n",
    "print()\n",
    "print(x2)\n",
    "print()\n",
    "\n",
    "# Addition\n",
    "\n",
    "y = x1 + x2\n",
    "print(y)"
   ]
  },
  {
   "cell_type": "markdown",
   "metadata": {},
   "source": [
    "### 1.3 Operation for matrix"
   ]
  },
  {
   "cell_type": "code",
   "execution_count": 7,
   "metadata": {},
   "outputs": [
    {
     "name": "stdout",
     "output_type": "stream",
     "text": [
      "[[18.0 8 307.0 130 3504 12.0 70]\n",
      " [15.0 8 350.0 165 3693 11.5 70]\n",
      " [18.0 8 318.0 150 3436 11.0 70]\n",
      " [16.0 8 304.0 150 3433 12.0 70]\n",
      " [17.0 8 302.0 140 3449 10.5 70]]\n",
      "\n",
      "[[27.0 4 140.0 86 2790 15.6 82]\n",
      " [44.0 4 97.0 52 2130 24.6 82]\n",
      " [32.0 4 135.0 84 2295 11.6 82]\n",
      " [28.0 4 120.0 79 2625 18.6 82]\n",
      " [31.0 4 119.0 82 2720 19.4 82]]\n",
      "\n",
      "[[-9.0 4 167.0 44 714 -3.5999999999999996 -12]\n",
      " [-29.0 4 253.0 113 1563 -13.100000000000001 -12]\n",
      " [-14.0 4 183.0 66 1141 -0.5999999999999996 -12]\n",
      " [-12.0 4 184.0 71 808 -6.600000000000001 -12]\n",
      " [-14.0 4 183.0 58 729 -8.899999999999999 -12]]\n"
     ]
    }
   ],
   "source": [
    "# Get first 5 rows and last 5 rows \n",
    "\n",
    "m1 = X[0:5, :]\n",
    "m2 = X[-5:, :]\n",
    "\n",
    "print(m1)\n",
    "print()\n",
    "print(m2)\n",
    "print()\n",
    "\n",
    "# Subtraction\n",
    "m = m1 - m2\n",
    "print(m)"
   ]
  },
  {
   "cell_type": "markdown",
   "metadata": {},
   "source": [
    "## 2 Task"
   ]
  },
  {
   "cell_type": "markdown",
   "metadata": {},
   "source": [
    "### 2.1 Get the first column and the second to last column from X\n"
   ]
  },
  {
   "cell_type": "code",
   "execution_count": 18,
   "metadata": {},
   "outputs": [
    {
     "name": "stdout",
     "output_type": "stream",
     "text": [
      "[18.0 15.0 18.0 16.0 17.0 15.0 14.0 14.0 14.0 15.0 0.0 0.0 0.0 0.0 0.0\n",
      " 15.0 14.0 0.0 15.0 14.0 24.0 22.0 18.0 21.0 27.0 26.0 25.0 24.0 25.0 26.0\n",
      " 21.0 10.0 10.0 11.0 9.0 27.0 28.0 25.0 25.0 0.0 19.0 16.0 17.0 19.0 18.0\n",
      " 14.0 14.0 14.0 14.0 12.0 13.0 13.0 18.0 22.0 19.0 18.0 23.0 28.0 30.0\n",
      " 30.0 31.0 35.0 27.0 26.0 24.0 25.0 23.0 20.0 21.0 13.0 14.0 15.0 14.0\n",
      " 17.0 11.0 13.0 12.0 13.0 19.0 15.0 13.0 13.0 14.0 18.0 22.0 21.0 26.0\n",
      " 22.0 28.0 23.0 28.0 27.0 13.0 14.0 13.0 14.0 15.0 12.0 13.0 13.0 14.0\n",
      " 13.0 12.0 13.0 18.0 16.0 18.0 18.0 23.0 26.0 11.0 12.0 13.0 12.0 18.0\n",
      " 20.0 21.0 22.0 18.0 19.0 21.0 26.0 15.0 16.0 29.0 24.0 20.0 19.0 15.0\n",
      " 24.0 20.0 11.0 20.0 21.0 19.0 15.0 31.0 26.0 32.0 25.0 16.0 16.0 18.0\n",
      " 16.0 13.0 14.0 14.0 14.0 29.0 26.0 26.0 31.0 32.0 28.0 24.0 26.0 24.0\n",
      " 26.0 31.0 19.0 18.0 15.0 15.0 16.0 15.0 16.0 14.0 17.0 16.0 15.0 18.0\n",
      " 21.0 20.0 13.0 29.0 23.0 20.0 23.0 24.0 25.0 24.0 18.0 29.0 19.0 23.0\n",
      " 23.0 22.0 25.0 33.0 28.0 25.0 25.0 26.0 27.0 17.5 16.0 15.5 14.5 22.0\n",
      " 22.0 24.0 22.5 29.0 24.5 29.0 33.0 20.0 18.0 18.5 17.5 29.5 32.0 28.0\n",
      " 26.5 20.0 13.0 19.0 19.0 16.5 16.5 13.0 13.0 13.0 31.5 30.0 36.0 25.5\n",
      " 33.5 17.5 17.0 15.5 15.0 17.5 20.5 19.0 18.5 16.0 15.5 15.5 16.0 29.0\n",
      " 24.5 26.0 25.5 30.5 33.5 30.0 30.5 22.0 21.5 21.5 43.1 36.1 32.8 39.4\n",
      " 36.1 19.9 19.4 20.2 19.2 20.5 20.2 25.1 20.5 19.4 20.6 20.8 18.6 18.1\n",
      " 19.2 17.7 18.1 17.5 30.0 27.5 27.2 30.9 21.1 23.2 23.8 23.9 20.3 17.0\n",
      " 21.6 16.2 31.5 29.5 21.5 19.8 22.3 20.2 20.6 17.0 17.6 16.5 18.2 16.9\n",
      " 15.5 19.2 18.5 31.9 34.1 35.7 27.4 25.4 23.0 27.2 23.9 34.2 34.5 31.8\n",
      " 37.3 28.4 28.8 26.8 33.5 41.5 38.1 32.1 37.2 28.0 26.4 24.3 19.1 34.3\n",
      " 29.8 31.3 37.0 32.2 46.6 27.9 40.8 44.3 43.4 36.4 30.0 44.6 40.9 33.8\n",
      " 29.8 32.7 23.7 35.0 23.6 32.4 27.2 26.6 25.8 23.5 30.0 39.1 39.0 35.1\n",
      " 32.3 37.0 37.7 34.1 34.7 34.4 29.9 33.0 34.5 33.7 32.4 32.9 31.6 28.1 0.0\n",
      " 30.7 25.4 24.2 22.4 26.6 20.2 17.6 28.0 27.0 34.0 31.0 29.0 27.0 24.0\n",
      " 23.0 36.0 37.0 31.0 38.0 36.0 36.0 36.0 34.0 38.0 32.0 38.0 25.0 38.0\n",
      " 26.0 22.0 32.0 36.0 27.0 27.0 44.0 32.0 28.0 31.0]\n",
      "\n",
      "hello\n",
      "[12.0 11.5 11.0 12.0 10.5 10.0 9.0 8.5 10.0 8.5 17.5 11.5 11.0 10.5 11.0\n",
      " 10.0 8.0 8.0 9.5 10.0 15.0 15.5 15.5 16.0 14.5 20.5 17.5 14.5 17.5 12.5\n",
      " 15.0 14.0 15.0 13.5 18.5 14.5 15.5 14.0 19.0 20.0 13.0 15.5 15.5 15.5\n",
      " 15.5 12.0 11.5 13.5 13.0 11.5 12.0 12.0 13.5 19.0 15.0 14.5 14.0 14.0\n",
      " 19.5 14.5 19.0 18.0 19.0 20.5 15.5 17.0 23.5 19.5 16.5 12.0 12.0 13.5\n",
      " 13.0 11.5 11.0 13.5 13.5 12.5 13.5 12.5 14.0 16.0 14.0 14.5 18.0 19.5\n",
      " 18.0 16.0 17.0 14.5 15.0 16.5 13.0 11.5 13.0 14.5 12.5 11.5 12.0 13.0\n",
      " 14.5 11.0 11.0 11.0 16.5 18.0 16.0 16.5 16.0 21.0 14.0 12.5 13.0 12.5\n",
      " 15.0 19.0 19.5 16.5 13.5 18.5 14.0 15.5 13.0 9.5 19.5 15.5 14.0 15.5 11.0\n",
      " 14.0 13.5 11.0 16.5 17.0 16.0 17.0 19.0 16.5 21.0 17.0 17.0 18.0 16.5\n",
      " 14.0 14.5 13.5 16.0 15.5 16.5 15.5 14.5 16.5 19.0 14.5 15.5 14.0 15.0\n",
      " 15.5 16.0 16.0 16.0 21.0 19.5 11.5 14.0 14.5 13.5 21.0 18.5 19.0 19.0\n",
      " 15.0 13.5 12.0 16.0 17.0 16.0 18.5 13.5 16.5 17.0 14.5 14.0 17.0 15.0\n",
      " 17.0 14.5 13.5 17.5 15.5 16.9 14.9 17.7 15.3 13.0 13.0 13.9 12.8 15.4\n",
      " 14.5 17.6 17.6 22.2 22.1 14.2 17.4 17.7 21.0 16.2 17.8 12.2 17.0 16.4\n",
      " 13.6 15.7 13.2 21.9 15.5 16.7 12.1 12.0 15.0 14.0 18.5 14.8 18.6 15.5\n",
      " 16.8 12.5 19.0 13.7 14.9 16.4 16.9 17.7 19.0 11.1 11.4 12.2 14.5 14.5\n",
      " 16.0 18.2 15.8 17.0 15.9 16.4 14.1 14.5 12.8 13.5 21.5 14.4 19.4 18.6\n",
      " 16.4 15.5 13.2 12.8 19.2 18.2 15.8 15.4 17.2 17.2 15.8 16.7 18.7 15.1\n",
      " 13.2 13.4 11.2 13.7 16.5 14.2 14.7 14.5 14.8 16.7 17.6 14.9 15.9 13.6\n",
      " 15.7 15.8 14.9 16.6 15.4 18.2 17.3 18.2 16.6 15.4 13.4 13.2 15.2 14.9\n",
      " 14.3 15.0 13.0 14.0 15.2 14.4 15.0 20.1 17.4 24.8 22.2 13.2 14.9 19.2\n",
      " 14.7 16.0 11.3 12.9 13.2 14.7 18.8 15.5 16.4 16.5 18.1 20.1 18.7 15.8\n",
      " 15.5 17.5 15.0 15.2 17.9 14.4 19.2 21.7 23.7 19.9 21.8 13.8 17.3 18.0\n",
      " 15.3 11.4 12.5 15.1 14.3 17.0 15.7 16.4 14.4 12.6 12.9 16.9 16.4 16.1\n",
      " 17.8 19.4 17.3 16.0 14.9 16.2 20.7 14.2 15.8 14.4 16.8 14.8 18.3 20.4\n",
      " 15.4 19.6 12.6 13.8 15.8 19.0 17.1 16.6 19.6 18.6 18.0 16.2 16.0 18.0\n",
      " 16.4 20.5 15.3 18.2 17.6 14.7 17.3 14.5 14.5 16.9 15.0 15.7 16.2 16.4\n",
      " 17.0 14.5 14.7 13.9 13.0 17.3 15.6 24.6 11.6 18.6 19.4]\n"
     ]
    }
   ],
   "source": [
    "# this is your code to get two vectors\n",
    "\n",
    "y1 = X[:,0]\n",
    "y2 = X[:,-2]\n",
    "\n",
    "print(y1)\n",
    "print()\n",
    "print(\"hello\")\n",
    "print(y2)"
   ]
  },
  {
   "cell_type": "markdown",
   "metadata": {},
   "source": [
    "### 2.2 Perform following operations on these two vectors and print the result"
   ]
  },
  {
   "cell_type": "code",
   "execution_count": 21,
   "metadata": {},
   "outputs": [
    {
     "name": "stdout",
     "output_type": "stream",
     "text": [
      "[30.0 26.5 29.0 28.0 27.5 25.0 23.0 22.5 24.0 23.5 17.5 11.5 11.0 10.5\n",
      " 11.0 25.0 22.0 8.0 24.5 24.0 39.0 37.5 33.5 37.0 41.5 46.5 42.5 38.5 42.5\n",
      " 38.5 36.0 24.0 25.0 24.5 27.5 41.5 43.5 39.0 44.0 20.0 32.0 31.5 32.5\n",
      " 34.5 33.5 26.0 25.5 27.5 27.0 23.5 25.0 25.0 31.5 41.0 34.0 32.5 37.0\n",
      " 42.0 49.5 44.5 50.0 53.0 46.0 46.5 39.5 42.0 46.5 39.5 37.5 25.0 26.0\n",
      " 28.5 27.0 28.5 22.0 26.5 25.5 25.5 32.5 27.5 27.0 29.0 28.0 32.5 40.0\n",
      " 40.5 44.0 38.0 45.0 37.5 43.0 43.5 26.0 25.5 26.0 28.5 27.5 23.5 25.0\n",
      " 26.0 28.5 24.0 23.0 24.0 34.5 34.0 34.0 34.5 39.0 47.0 25.0 24.5 26.0\n",
      " 24.5 33.0 39.0 40.5 38.5 31.5 37.5 35.0 41.5 28.0 25.5 48.5 39.5 34.0\n",
      " 34.5 26.0 38.0 33.5 22.0 36.5 38.0 35.0 32.0 50.0 42.5 53.0 42.0 33.0\n",
      " 34.0 34.5 30.0 27.5 27.5 30.0 29.5 45.5 41.5 40.5 47.5 51.0 42.5 39.5\n",
      " 40.0 39.0 41.5 47.0 35.0 34.0 36.0 34.5 27.5 29.0 30.5 27.5 38.0 34.5\n",
      " 34.0 37.0 36.0 33.5 25.0 45.0 40.0 36.0 41.5 37.5 41.5 41.0 32.5 43.0\n",
      " 36.0 38.0 40.0 36.5 38.5 50.5 43.5 41.9 39.9 43.7 42.3 30.5 29.0 29.4\n",
      " 27.3 37.4 36.5 41.6 40.1 51.2 46.6 43.2 50.4 37.7 39.0 34.7 35.3 41.7\n",
      " 49.0 44.4 40.1 35.7 26.2 40.9 34.5 33.2 28.6 25.0 28.0 27.0 50.0 44.8\n",
      " 54.6 41.0 50.3 30.0 36.0 29.2 29.9 33.9 37.4 36.7 37.5 27.1 26.9 27.7\n",
      " 30.5 43.5 40.5 44.2 41.3 47.5 49.4 46.4 44.6 36.5 34.3 35.0 64.6 50.5\n",
      " 52.199999999999996 58.0 52.5 35.4 32.599999999999994 33.0 38.4 38.7 36.0\n",
      " 40.5 37.7 36.599999999999994 36.400000000000006 37.5 37.3 33.2 32.4 31.1\n",
      " 29.3 31.2 46.5 41.7 41.9 45.4 35.900000000000006 39.9 41.400000000000006\n",
      " 38.8 36.2 30.6 37.3 32.0 46.4 46.1 36.9 38.0 39.6 38.4 37.2 32.4 31.0\n",
      " 29.7 33.4 31.799999999999997 29.8 34.2 31.5 45.9 49.3 50.1 42.4 45.5 40.4\n",
      " 52.0 46.099999999999994 47.400000000000006 49.4 51.0 52.0 44.4 40.1 39.7\n",
      " 46.7 56.2 56.900000000000006 47.6 53.6 44.5 44.5 44.400000000000006 37.8\n",
      " 50.099999999999994 45.3 48.8 52.0 47.400000000000006 64.5 42.3 60.0 66.0\n",
      " 67.1 56.3 51.8 58.400000000000006 58.2 51.8 45.1 44.1 36.2 50.1\n",
      " 37.900000000000006 49.4 42.9 43.0 40.2 36.1 42.9 56.0 55.4 51.2\n",
      " 50.099999999999994 56.4 55.0 50.1 49.6 50.599999999999994\n",
      " 50.599999999999994 47.2 50.3 48.1 49.2 47.7 49.900000000000006 48.5 15.4\n",
      " 50.3 38.0 38.0 38.2 45.6 37.3 34.2 47.6 45.6 52.0 47.2 45.0 45.0 40.4\n",
      " 43.5 51.3 55.2 48.6 52.7 53.3 50.5 50.5 50.9 53.0 47.7 54.2 41.4 55.0\n",
      " 40.5 36.7 45.9 49.0 44.3 42.6 68.6 43.6 46.6 50.4]\n",
      "\n",
      "[216.0 172.5 198.0 192.0 178.5 150.0 126.0 119.0 140.0 127.5 0.0 0.0 0.0\n",
      " 0.0 0.0 150.0 112.0 0.0 142.5 140.0 360.0 341.0 279.0 336.0 391.5 533.0\n",
      " 437.5 348.0 437.5 325.0 315.0 140.0 150.0 148.5 166.5 391.5 434.0 350.0\n",
      " 475.0 0.0 247.0 248.0 263.5 294.5 279.0 168.0 161.0 189.0 182.0 138.0\n",
      " 156.0 156.0 243.0 418.0 285.0 261.0 322.0 392.0 585.0 435.0 589.0 630.0\n",
      " 513.0 533.0 372.0 425.0 540.5 390.0 346.5 156.0 168.0 202.5 182.0 195.5\n",
      " 121.0 175.5 162.0 162.5 256.5 187.5 182.0 208.0 196.0 261.0 396.0 409.5\n",
      " 468.0 352.0 476.0 333.5 420.0 445.5 169.0 161.0 169.0 203.0 187.5 138.0\n",
      " 156.0 169.0 203.0 143.0 132.0 143.0 297.0 288.0 288.0 297.0 368.0 546.0\n",
      " 154.0 150.0 169.0 150.0 270.0 380.0 409.5 363.0 243.0 351.5 294.0 403.0\n",
      " 195.0 152.0 565.5 372.0 280.0 294.5 165.0 336.0 270.0 121.0 330.0 357.0\n",
      " 304.0 255.0 589.0 429.0 672.0 425.0 272.0 288.0 297.0 224.0 188.5 189.0\n",
      " 224.0 217.0 478.5 403.0 377.0 511.5 608.0 406.0 372.0 364.0 360.0 403.0\n",
      " 496.0 304.0 288.0 315.0 292.5 184.0 210.0 232.0 189.0 357.0 296.0 285.0\n",
      " 342.0 315.0 270.0 156.0 464.0 391.0 320.0 425.5 324.0 412.5 408.0 261.0\n",
      " 406.0 323.0 345.0 391.0 319.0 337.5 577.5 434.0 422.49999999999994 372.5\n",
      " 460.2 413.1 227.5 208.0 215.45000000000002 185.60000000000002 338.8 319.0\n",
      " 422.40000000000003 396.00000000000006 643.8 541.45 411.79999999999995\n",
      " 574.1999999999999 354.0 378.0 299.7 311.5 359.9 544.0 459.19999999999993\n",
      " 360.4 314.0 171.6 416.09999999999997 294.5 275.55 199.65 156.0 195.0\n",
      " 182.0 582.75 444.0 669.6 395.25 562.8000000000001 218.75 323.0 212.35\n",
      " 223.5 287.0 346.45 336.3 351.5 177.6 176.70000000000002 189.1 232.0 420.5\n",
      " 392.0 473.2 402.90000000000003 518.5 532.65 491.99999999999994 430.05\n",
      " 319.0 275.2 290.25 926.65 519.84 636.3199999999999 732.84 592.04 308.45\n",
      " 256.08 258.56 368.64 373.09999999999997 319.16 386.54 352.59999999999997\n",
      " 333.67999999999995 325.48 347.36 347.82 273.31 253.43999999999997 237.18\n",
      " 202.72 239.75 495.0 390.5 399.84 448.04999999999995 312.28000000000003\n",
      " 387.44 418.88000000000005 356.11 322.77000000000004 231.2 339.12 255.96\n",
      " 469.35 489.70000000000005 331.1 360.36 385.79 367.64 341.96000000000004\n",
      " 261.8 235.84000000000003 217.79999999999998 276.64 251.80999999999997\n",
      " 221.65 288.0 240.5 446.59999999999997 518.32 514.08 411.0 510.54 400.2\n",
      " 674.56 530.5799999999999 451.44 514.0500000000001 610.56 548.31 454.4\n",
      " 325.44000000000005 345.72 442.2 610.05 716.2800000000001 497.55 610.08\n",
      " 462.0 477.84000000000003 488.43000000000006 357.17 541.9399999999999\n",
      " 461.90000000000003 547.75 555.0 489.44 834.14 401.76 783.3599999999999\n",
      " 961.31 1028.58 724.3599999999999 654.0 615.48 707.57 608.4\n",
      " 455.94000000000005 372.78000000000003 296.25 528.5 337.48 550.8\n",
      " 427.03999999999996 436.24 371.52000000000004 296.09999999999997 387.0\n",
      " 660.79 639.5999999999999 565.1100000000001 574.9399999999999 717.8 652.21\n",
      " 545.6 517.0300000000001 557.28 618.93 468.59999999999997 545.1\n",
      " 485.28000000000003 544.32 486.92 578.2800000000001 573.24 0.0 601.72\n",
      " 320.03999999999996 333.96 353.92 505.40000000000003 345.42 292.16\n",
      " 548.8000000000001 502.20000000000005 612.0 502.2 464.0 486.0\n",
      " 393.59999999999997 471.5 550.8000000000001 673.4 545.6 558.6\n",
      " 622.8000000000001 522.0 522.0 574.5999999999999 570.0 502.4 615.6\n",
      " 409.99999999999994 646.0 377.0 323.4 444.8 468.0 467.1 421.2 1082.4 371.2\n",
      " 520.8000000000001 601.4]\n",
      "\n",
      "\n",
      "y1 L1 norm = 9358.800000000003\n",
      "\n",
      "y1 L2 norm = 494.28813459357895\n",
      "\n",
      "y1 Infinity norm = 46.6\n",
      "\n",
      "y2 L1 norm = 6300.999999999994\n",
      "\n",
      "y2 L2 norm = 317.7616716975161\n",
      "\n",
      "y2 Infinity norm = 24.8\n",
      "\n",
      "distance = 216.10913909411607\n",
      "\n"
     ]
    }
   ],
   "source": [
    "# 1. addition and subtraction\n",
    "print(y1+y2)\n",
    "print()\n",
    "\n",
    "# 2. element-wise multiplication\n",
    "print(y1*y2)\n",
    "print()\n",
    "\n",
    "# 3. inner product\n",
    "np.dot(y1, y2)\n",
    "print()\n",
    "\n",
    "# 4. three norms\n",
    "print(\"y1 L1 norm = {}\\n\".format(np.linalg.norm(y1, ord=1)))\n",
    "print(\"y1 L2 norm = {}\\n\".format(np.linalg.norm(y1)))\n",
    "print(\"y1 Infinity norm = {}\\n\".format(np.linalg.norm(y1, np.inf)))\n",
    "print(\"y2 L1 norm = {}\\n\".format(np.linalg.norm(y2, ord=1)))\n",
    "print(\"y2 L2 norm = {}\\n\".format(np.linalg.norm(y2)))\n",
    "print(\"y2 Infinity norm = {}\\n\".format(np.linalg.norm(y2, np.inf)))\n",
    "\n",
    "# 5. compute the distance between these two vectors\n",
    "print(\"distance = {}\\n\".format(np.linalg.norm(y1-y2)))"
   ]
  },
  {
   "cell_type": "markdown",
   "metadata": {},
   "source": []
  },
  {
   "cell_type": "markdown",
   "metadata": {},
   "source": [
    "### 2.3 Get the first three columns and the last three columns from X"
   ]
  },
  {
   "cell_type": "code",
   "execution_count": 91,
   "metadata": {},
   "outputs": [
    {
     "name": "stdout",
     "output_type": "stream",
     "text": [
      "[[18.0 8 307.0]\n",
      " [15.0 8 350.0]\n",
      " [18.0 8 318.0]\n",
      " ...\n",
      " [32.0 4 135.0]\n",
      " [28.0 4 120.0]\n",
      " [31.0 4 119.0]]\n",
      "\n",
      "[[3504 12.0 70]\n",
      " [3693 11.5 70]\n",
      " [3436 11.0 70]\n",
      " ...\n",
      " [2295 11.6 82]\n",
      " [2625 18.6 82]\n",
      " [2720 19.4 82]]\n",
      "\n"
     ]
    }
   ],
   "source": [
    "# this is your code to get two matrices: A, B\n",
    "A = X[:,0:3]\n",
    "B = X[:,-3:]\n",
    "\n",
    "print(\"{}\\n\".format(A))\n",
    "print(\"{}\\n\".format(B))"
   ]
  },
  {
   "cell_type": "markdown",
   "metadata": {},
   "source": [
    "### 2.4 Perform following operations on these two matrices and print the result"
   ]
  },
  {
   "cell_type": "code",
   "execution_count": null,
   "metadata": {},
   "outputs": [
    {
     "name": "stdout",
     "output_type": "stream",
     "text": [
      "[[3522.0 20.0 377.0]\n",
      " [3708.0 19.5 420.0]\n",
      " [3454.0 19.0 388.0]\n",
      " ...\n",
      " [2327.0 15.6 217.0]\n",
      " [2653.0 22.6 202.0]\n",
      " [2751.0 23.4 201.0]]\n",
      "\n",
      "[[-3486.0 -4.0 237.0]\n",
      " [-3678.0 -3.5 280.0]\n",
      " [-3418.0 -3.0 248.0]\n",
      " ...\n",
      " [-2263.0 -7.6 53.0]\n",
      " [-2597.0 -14.600000000000001 38.0]\n",
      " [-2689.0 -15.399999999999999 37.0]]\n",
      "\n",
      "(3, 406)\n",
      "\n",
      "[[84658.0 88056.0 83426.0 ... 66576.8 72572.8 74289.2]\n",
      " [77156.0 79987.0 76128.0 ... 63217.8 68223.8 69655.2]\n",
      " [85428.0 88826.0 84196.0 ... 67478.8 73474.8 75191.2]\n",
      " ...\n",
      " [121626.0 127672.0 119446.0 ... 84556.4 95144.4 98187.6]\n",
      " [106560.0 111850.0 104652.0 ... 74146.4 83414.4 86077.6]\n",
      " [117002.0 122859.0 114890.0 ... 80949.4 91207.4 94155.6]]\n",
      "\n",
      "(406, 406)\n",
      "\n",
      "[[18.0 15.0 18.0 ... 32.0 28.0 31.0]\n",
      " [8 8 8 ... 4 4 4]\n",
      " [307.0 350.0 318.0 ... 135.0 120.0 119.0]]\n",
      "\n",
      "[[25614040.900000002 149295.04000000004 718009.0999999995]\n",
      " [7149030 33484.69999999997 167835]\n",
      " [269175402.0 1160836.2999999998 5943079.0]]\n",
      "\n",
      "(3, 3)\n",
      "\n"
     ]
    }
   ],
   "source": [
    "# 1. addition and subtraction \n",
    "print(\"{}\\n\".format(A+B))\n",
    "print(\"{}\\n\".format(A-B))\n",
    "\n",
    "# 2. compute the transpose of the second matrix: C = B^T, and print the shape of C\n",
    "C = B.T\n",
    "print(\"{}\\n\".format(C.shape))\n",
    "\n",
    "# 3. compute the product between A and C, and print the result and its shape\n",
    "AC = np.dot(A,C)\n",
    "print(\"{}\\n\".format(AC))\n",
    "print(\"{}\\n\".format(AC.shape))\n",
    "\n",
    "# 4. compute the transpose of the first matrix: D = A^T, and print the shape of D\n",
    "D = A.T\n",
    "print(\"{}\\n\".format(D))\n",
    "\n",
    "# 5. compute the product between D and B, and print the result and its shape\n",
    "DB = np.dot(D,B)\n",
    "print(\"{}\\n\".format(DB))\n",
    "print(\"{}\\n\".format(DB.shape))"
   ]
  },
  {
   "cell_type": "markdown",
   "metadata": {},
   "source": [
    "## Python Basics Slides"
   ]
  },
  {
   "cell_type": "markdown",
   "metadata": {},
   "source": [
    "### List"
   ]
  },
  {
   "cell_type": "code",
   "execution_count": 7,
   "metadata": {},
   "outputs": [
    {
     "name": "stdout",
     "output_type": "stream",
     "text": [
      "['apple', 'banana', 'cherry']\n",
      "[1, 5, 7, 9, 3]\n",
      "[True, False, False]\n"
     ]
    }
   ],
   "source": [
    "list1 = [\"apple\", \"banana\", \"cherry\"]\n",
    "list2 = [1,5,7,9,3]\n",
    "list3 = [True, False, False]\n",
    "\n",
    "print(list1)\n",
    "print(list2)\n",
    "print(list3)"
   ]
  },
  {
   "cell_type": "code",
   "execution_count": 33,
   "metadata": {},
   "outputs": [
    {
     "name": "stdout",
     "output_type": "stream",
     "text": [
      "apple\n",
      "cherry\n",
      "banana\n"
     ]
    }
   ],
   "source": [
    "print(list1[0])\n",
    "print(list1[-1])\n",
    "print(list1[-2])"
   ]
  },
  {
   "cell_type": "code",
   "execution_count": 59,
   "metadata": {},
   "outputs": [
    {
     "name": "stdout",
     "output_type": "stream",
     "text": [
      "['cherry', 'orange', 'kiwi']\n",
      "['cherry', 'orange', 'kiwi']\n"
     ]
    }
   ],
   "source": [
    "list4 = [\"apple\", \"banana\", \"cherry\", \"orange\", \"kiwi\", \"melon\", \"mango\"]\n",
    "print(list4[2:5])\n",
    "print(list4[2:-2])"
   ]
  },
  {
   "cell_type": "code",
   "execution_count": 60,
   "metadata": {},
   "outputs": [
    {
     "name": "stdout",
     "output_type": "stream",
     "text": [
      "['apple', 'banana', 'cherry']\n",
      "['apple', 'banana', 'cherry', 'orange']\n"
     ]
    }
   ],
   "source": [
    "print(list1)\n",
    "list1.append(\"orange\")\n",
    "print(list1)"
   ]
  },
  {
   "cell_type": "code",
   "execution_count": 61,
   "metadata": {},
   "outputs": [
    {
     "name": "stdout",
     "output_type": "stream",
     "text": [
      "['apple', 'banana', 'cherry', 'orange']\n",
      "['apple', 'mango', 'banana', 'cherry', 'orange']\n"
     ]
    }
   ],
   "source": [
    "print(list1)\n",
    "list1.insert(1,\"mango\")\n",
    "print(list1)"
   ]
  },
  {
   "cell_type": "code",
   "execution_count": 62,
   "metadata": {},
   "outputs": [
    {
     "name": "stdout",
     "output_type": "stream",
     "text": [
      "['apple', 'mango', 'banana', 'cherry', 'orange', 'pineapple', 'papaya', 'plantain']\n"
     ]
    }
   ],
   "source": [
    "tropical = [\"pineapple\", \"papaya\", \"plantain\"]\n",
    "list1.extend(tropical)\n",
    "print(list1)"
   ]
  },
  {
   "cell_type": "code",
   "execution_count": 63,
   "metadata": {},
   "outputs": [
    {
     "name": "stdout",
     "output_type": "stream",
     "text": [
      "['apple', 'mango', 'cherry', 'orange', 'pineapple', 'papaya', 'plantain']\n"
     ]
    }
   ],
   "source": [
    "list1.remove(\"banana\")\n",
    "print(list1)"
   ]
  },
  {
   "cell_type": "code",
   "execution_count": 65,
   "metadata": {},
   "outputs": [
    {
     "name": "stdout",
     "output_type": "stream",
     "text": [
      "apple\n",
      "mango\n",
      "cherry\n",
      "orange\n",
      "pineapple\n",
      "papaya\n",
      "plantain\n",
      "\n",
      "apple\n",
      "mango\n",
      "cherry\n",
      "orange\n",
      "pineapple\n",
      "papaya\n",
      "plantain\n"
     ]
    }
   ],
   "source": [
    "for x in list1:\n",
    "    print(x)\n",
    "print()\n",
    "for i in range(len(list1)):\n",
    "    print(list1[i])"
   ]
  },
  {
   "cell_type": "markdown",
   "metadata": {},
   "source": [
    "### Tuples"
   ]
  },
  {
   "cell_type": "code",
   "execution_count": 66,
   "metadata": {},
   "outputs": [
    {
     "name": "stdout",
     "output_type": "stream",
     "text": [
      "('apple', 'banana', 'cherry', 'apple', 'cherry')\n"
     ]
    }
   ],
   "source": [
    "thistuple = (\"apple\", \"banana\", \"cherry\", \"apple\", \"cherry\")\n",
    "print(thistuple)"
   ]
  },
  {
   "cell_type": "code",
   "execution_count": 67,
   "metadata": {},
   "outputs": [
    {
     "name": "stdout",
     "output_type": "stream",
     "text": [
      "banana\n",
      "apple\n",
      "('cherry', 'apple', 'cherry')\n"
     ]
    }
   ],
   "source": [
    "print(thistuple[1])\n",
    "print(thistuple[-2])\n",
    "print(thistuple[2:5])"
   ]
  },
  {
   "cell_type": "code",
   "execution_count": 68,
   "metadata": {},
   "outputs": [
    {
     "name": "stdout",
     "output_type": "stream",
     "text": [
      "apple\n",
      "banana\n",
      "cherry\n"
     ]
    }
   ],
   "source": [
    "fruits = (\"apple\", \"banana\", \"cherry\")\n",
    "(green, yellow, red) = fruits\n",
    "\n",
    "print(green)\n",
    "print(yellow)\n",
    "print(red)"
   ]
  },
  {
   "cell_type": "code",
   "execution_count": 69,
   "metadata": {},
   "outputs": [
    {
     "name": "stdout",
     "output_type": "stream",
     "text": [
      "apple\n",
      "banana\n",
      "cherry\n",
      "apple\n",
      "cherry\n",
      "\n",
      "apple\n",
      "banana\n",
      "cherry\n",
      "apple\n",
      "cherry\n"
     ]
    }
   ],
   "source": [
    "for x in thistuple:\n",
    "    print(x)\n",
    "print()\n",
    "for i in range(len(thistuple)):\n",
    "    print(thistuple[i])"
   ]
  },
  {
   "cell_type": "markdown",
   "metadata": {},
   "source": [
    "## Dictionaries"
   ]
  },
  {
   "cell_type": "code",
   "execution_count": 144,
   "metadata": {},
   "outputs": [
    {
     "name": "stdout",
     "output_type": "stream",
     "text": [
      "{'brand': 'Ford', 'model': 'Mustang', 'year': 1964}\n",
      "Ford\n"
     ]
    }
   ],
   "source": [
    "thisdict = {\n",
    "    \"brand\": \"Ford\",\n",
    "    \"model\": \"Mustang\",\n",
    "    \"year\": 1964\n",
    "}\n",
    "print(thisdict)\n",
    "print(thisdict[\"brand\"])"
   ]
  },
  {
   "cell_type": "code",
   "execution_count": 145,
   "metadata": {},
   "outputs": [
    {
     "name": "stdout",
     "output_type": "stream",
     "text": [
      "dict_keys(['brand', 'model', 'year'])\n",
      "dict_values(['Ford', 'Mustang', 1964])\n",
      "dict_items([('brand', 'Ford'), ('model', 'Mustang'), ('year', 1964)])\n"
     ]
    }
   ],
   "source": [
    "print(thisdict.keys())\n",
    "print(thisdict.values())\n",
    "print(thisdict.items())"
   ]
  },
  {
   "cell_type": "code",
   "execution_count": 150,
   "metadata": {},
   "outputs": [
    {
     "name": "stdout",
     "output_type": "stream",
     "text": [
      "{'brand': 'Ford', 'model': 'Mustang', 'year': 1964, 'color': 'blue'}\n"
     ]
    }
   ],
   "source": [
    "thisdict[\"color\"] = \"blue\"\n",
    "print(thisdict)"
   ]
  },
  {
   "cell_type": "code",
   "execution_count": 151,
   "metadata": {},
   "outputs": [
    {
     "name": "stdout",
     "output_type": "stream",
     "text": [
      "{'brand': 'Ford', 'model': 'Mustang', 'year': '2021', 'color': 'blue'}\n",
      "{'brand': 'Ford', 'model': 'Mustang', 'year': '2021', 'color': 'red'}\n"
     ]
    }
   ],
   "source": [
    "thisdict.update({\"year\":\"2021\"})\n",
    "print(thisdict)\n",
    "thisdict.update({\"color\":\"red\"})\n",
    "print(thisdict)"
   ]
  },
  {
   "cell_type": "code",
   "execution_count": 152,
   "metadata": {},
   "outputs": [
    {
     "name": "stdout",
     "output_type": "stream",
     "text": [
      "{'brand': 'Ford', 'year': '2021', 'color': 'red'}\n"
     ]
    }
   ],
   "source": [
    "thisdict.pop(\"model\")\n",
    "print(thisdict)"
   ]
  },
  {
   "cell_type": "code",
   "execution_count": 154,
   "metadata": {},
   "outputs": [
    {
     "name": "stdout",
     "output_type": "stream",
     "text": [
      "===keys===\n",
      "brand\n",
      "year\n",
      "color\n",
      "\n",
      "===values===\n",
      "Ford\n",
      "2021\n",
      "red\n",
      "\n",
      "===items===\n",
      "('brand', 'Ford')\n",
      "('year', '2021')\n",
      "('color', 'red')\n"
     ]
    }
   ],
   "source": [
    "print(\"===keys===\")\n",
    "for x in thisdict.keys():\n",
    "    print(x)\n",
    "print(\"\\n===values===\")\n",
    "for x in thisdict.values():\n",
    "    print(x)\n",
    "print(\"\\n===items===\")\n",
    "for x in thisdict.items():\n",
    "    print(x)\n"
   ]
  }
 ],
 "metadata": {
  "anaconda-cloud": {},
  "kernelspec": {
   "display_name": "Python 3",
   "language": "python",
   "name": "python3"
  },
  "language_info": {
   "codemirror_mode": {
    "name": "ipython",
    "version": 3
   },
   "file_extension": ".py",
   "mimetype": "text/x-python",
   "name": "python",
   "nbconvert_exporter": "python",
   "pygments_lexer": "ipython3",
   "version": "3.13.2"
  }
 },
 "nbformat": 4,
 "nbformat_minor": 1
}
